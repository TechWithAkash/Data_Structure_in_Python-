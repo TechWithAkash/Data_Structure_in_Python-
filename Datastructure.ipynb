{
 "cells": [
  {
   "cell_type": "markdown",
   "id": "9b809a44-0920-4c5a-a00a-e3e450960dd8",
   "metadata": {},
   "source": [
    "Q1. How do you comment code in Python? What are the different types of comments?"
   ]
  },
  {
   "cell_type": "markdown",
   "id": "1f2000d4-a8bd-40b6-ab63-87f807338eeb",
   "metadata": {},
   "source": [
    "==>In Python, you can add comments to your code to make it more readable and provide explanations or documentation. There are two primary ways to add comments in Python:\n",
    "\n",
    "1) Singel line comment:These comments are used to document a single line of code. You can add a single-line comment by starting the line with a hash (#) character. \n",
    "\n",
    "2)Multiline comment:These comments are used to document multiple lines of code. Python does not have a specific syntax for multi-line comments, but you can achieve the same effect by enclosing the comments within triple quotes (either single or double quotes).\n"
   ]
  },
  {
   "cell_type": "code",
   "execution_count": 1,
   "id": "d975476c-7c16-4f0d-be2c-2000ea731a5c",
   "metadata": {},
   "outputs": [
    {
     "name": "stdout",
     "output_type": "stream",
     "text": [
      "Alakh Sir is Great\n"
     ]
    }
   ],
   "source": [
    "#eg of singel line comment\n",
    "print(\"Alakh Sir is Great\")"
   ]
  },
  {
   "cell_type": "code",
   "execution_count": 2,
   "id": "85d8c517-2e5f-40b0-8222-decca705ac88",
   "metadata": {},
   "outputs": [
    {
     "name": "stdout",
     "output_type": "stream",
     "text": [
      "PWskils \n"
     ]
    }
   ],
   "source": [
    "\n",
    "#Example of multiline \n",
    " #  comment \n",
    "print(\"PWskils \")"
   ]
  },
  {
   "cell_type": "code",
   "execution_count": null,
   "id": "c2ecff40-d6cb-4f4a-a765-b9c1cd841177",
   "metadata": {},
   "outputs": [],
   "source": []
  },
  {
   "cell_type": "markdown",
   "id": "7f769398-b184-422c-a4e3-c2b54c3b8a2d",
   "metadata": {},
   "source": [
    "Q2. What are variables in Python? How do you declare and assign values to variables?"
   ]
  },
  {
   "cell_type": "markdown",
   "id": "9c6662b5-4e63-46e5-8515-769e323bd4c9",
   "metadata": {},
   "source": [
    "==> In python variables are just like an container that we used to store an particular value/data of a given program any name we can use as a variabel.\n",
    "\n",
    "To declare and assign a value to a variable in Python, you can use the following syntax:-\n",
    "\n",
    "variabel_name = value\n",
    "\n",
    "The Equal sign (=) is assignment operator which assigns the value on the right side to the variable on the left side.\n",
    "\n",
    "Examples:\n",
    "name=\"Sudhansu Sir\" #Assigning a String value to variable name\n",
    "age  = 35    #Assigning a int value to variable age\n",
    "pi   = 3.14  #Assigning a floating value to variable pi"
   ]
  },
  {
   "cell_type": "code",
   "execution_count": null,
   "id": "273293d7-e06c-4e3d-bc9c-3417ccd75535",
   "metadata": {},
   "outputs": [],
   "source": []
  },
  {
   "cell_type": "markdown",
   "id": "b3dc2b27-0f98-41cc-83ea-fa8c31c20247",
   "metadata": {},
   "source": [
    "Q3. How do you convert one data type to another in Python?"
   ]
  },
  {
   "cell_type": "markdown",
   "id": "ef823f3c-5eab-4bd7-858e-596e4e1cf5e7",
   "metadata": {},
   "source": [
    "==>> In Python, you can convert one data type to another using type conversion functions\n",
    "\n",
    "There are two types of Type Conversion in Python:\n",
    "\n",
    "1)Implicit Type Conversion:=  the Python interpreter automatically converts one data type to another without any user involvement. \n",
    "\n",
    "2)Explicit Type Conversion:=In Explicit Type Conversion in Python, the data type is manually changed by the user as per their requirement."
   ]
  },
  {
   "cell_type": "code",
   "execution_count": 6,
   "id": "fe228bce-ddfd-4768-976b-20f9058f656c",
   "metadata": {},
   "outputs": [
    {
     "name": "stdout",
     "output_type": "stream",
     "text": [
      "7.3\n"
     ]
    }
   ],
   "source": [
    "#Exampelof implicit typecasting\n",
    "\n",
    "a =2.3 \n",
    "b =5\n",
    "print(a+b)"
   ]
  },
  {
   "cell_type": "code",
   "execution_count": 7,
   "id": "d4d30ab5-248f-468b-a96d-4c9977f3caad",
   "metadata": {},
   "outputs": [
    {
     "name": "stdout",
     "output_type": "stream",
     "text": [
      "57\n"
     ]
    }
   ],
   "source": [
    "#Exampelof Explicit typecasting\n",
    "\n",
    "a=23 #int value\n",
    "b=\"34\" #String value\n",
    "\n",
    "print(int(a) + int(b))  #conversion into in value"
   ]
  },
  {
   "cell_type": "code",
   "execution_count": null,
   "id": "e1912545-a7d7-494b-b029-8fcbd8a44e0c",
   "metadata": {},
   "outputs": [],
   "source": []
  },
  {
   "cell_type": "code",
   "execution_count": null,
   "id": "e8d716d1-43b6-4a0d-8b34-fde66b1d6f9a",
   "metadata": {},
   "outputs": [],
   "source": []
  },
  {
   "cell_type": "markdown",
   "id": "da7a079a-8238-4369-855b-a6e0e05c3286",
   "metadata": {},
   "source": [
    "Q4. How do you write and execute a Python script from the command line?"
   ]
  },
  {
   "cell_type": "markdown",
   "id": "3924931a-4acd-4648-875e-437b2fe9e17d",
   "metadata": {},
   "source": [
    "==>>\n",
    "\n",
    "To write and execute a Python script from the command line, you can follow these steps:\n",
    "\n",
    "1. Open a text editor and create a new file. You can give it any name with the `.py` extension. For example, `script.py`.\n",
    "\n",
    "2. Write your Python code in the text file. For example, let's write a simple \"Hello, World!\" program:\n",
    "   ```python\n",
    "   print(\"Hello, World!\")\n",
    "   ```\n",
    "\n",
    "3. Save the file.\n",
    "\n",
    "4. Open a command prompt or terminal.\n",
    "\n",
    "5. Navigate to the directory where you saved your Python script. You can use the `cd` command (change directory) to navigate through directories.\n",
    "\n",
    "6. Once you're in the correct directory, you can execute the script by running the `python` command followed by the name of your script file:\n",
    "   ```shell\n",
    "   python script.py\n",
    "   ```\n",
    "\n",
    "   Note: If you have both Python 2 and Python 3 installed on your system, you may need to use `python3` instead of `python` to explicitly specify Python 3.\n",
    "\n",
    "7. Press Enter to execute the command. The output of your script, in this case, \"Hello, World!\", should be displayed in the command prompt or terminal.\n",
    "\n",
    "That's it! You have successfully written and executed a Python script from the command line. You can modify the script in the text file and repeat the steps to run your updated code."
   ]
  },
  {
   "cell_type": "code",
   "execution_count": null,
   "id": "381669a6-abe3-4fce-93fc-daa241c463aa",
   "metadata": {},
   "outputs": [],
   "source": []
  },
  {
   "cell_type": "markdown",
   "id": "d8623acb-2bc7-4399-8b9e-a260c28dc16d",
   "metadata": {},
   "source": [
    "Q5. Given a list my_list = [1, 2, 3, 4, 5], write the code to slice the list and obtain the sub-list [2, 3]."
   ]
  },
  {
   "cell_type": "code",
   "execution_count": 8,
   "id": "2deba284-248f-4ee0-bd23-ad0bdbe8fd28",
   "metadata": {},
   "outputs": [
    {
     "data": {
      "text/plain": [
       "[1, 2, 3, 4, 5]"
      ]
     },
     "execution_count": 8,
     "metadata": {},
     "output_type": "execute_result"
    }
   ],
   "source": [
    "my_list = [1,2,3,4,5]\n",
    "my_list"
   ]
  },
  {
   "cell_type": "code",
   "execution_count": 10,
   "id": "129b2b81-d4c6-4915-a90b-234a83c16bac",
   "metadata": {},
   "outputs": [
    {
     "data": {
      "text/plain": [
       "[2, 3]"
      ]
     },
     "execution_count": 10,
     "metadata": {},
     "output_type": "execute_result"
    }
   ],
   "source": [
    "my_list[1:3]"
   ]
  },
  {
   "cell_type": "code",
   "execution_count": null,
   "id": "27beab8d-9beb-4f9c-8817-8c23218bec8d",
   "metadata": {},
   "outputs": [],
   "source": []
  },
  {
   "cell_type": "markdown",
   "id": "6cb6d1d1-e657-47f6-9964-ef1fda3e6baa",
   "metadata": {},
   "source": [
    "Q6. What is a complex number in mathematics, and how is it represented in Python?"
   ]
  },
  {
   "cell_type": "markdown",
   "id": "1a01d2a4-2693-401c-9e17-5dce24d8bbe3",
   "metadata": {},
   "source": [
    "==>In Python, complex numbers are represented using the complex data type. The imaginary part of a complex number in Python is denoted by the letter \"j\" instead of \"i\". The general syntax for representing a complex number in Python is a + bj, where \"a\" represents the real part and \"b\" represents the imaginary part.\n",
    "\n"
   ]
  },
  {
   "cell_type": "code",
   "execution_count": 12,
   "id": "a41dcca7-6e8f-405c-9191-8e0ae458257c",
   "metadata": {},
   "outputs": [
    {
     "name": "stdout",
     "output_type": "stream",
     "text": [
      "Complex Number is:- 23.56j\n"
     ]
    }
   ],
   "source": [
    "#exampel of complex number\n",
    "\n",
    "a = 23.56j #Complex number with both real and imaginary part(real :23, imaginary:56   \n",
    "print(\"Complex Number is:-\", a)"
   ]
  },
  {
   "cell_type": "code",
   "execution_count": null,
   "id": "0b812e2f-3ed5-4cef-a30b-8717765a812a",
   "metadata": {},
   "outputs": [],
   "source": []
  },
  {
   "cell_type": "markdown",
   "id": "954c34d9-6496-48da-a843-a81c6e89e471",
   "metadata": {},
   "source": [
    "Q7. What is the correct way to declare a variable named age and assign the value 25 to it?"
   ]
  },
  {
   "cell_type": "markdown",
   "id": "9797104d-93e2-4a3a-afce-56514858c925",
   "metadata": {},
   "source": [
    "==>In python we can declare a variable  to using following syntax:\n",
    "    \n",
    "    variabel_name = value\n",
    "    eg. age=25\n",
    "    \n",
    "    \n",
    "    \n",
    "    \n",
    "    "
   ]
  },
  {
   "cell_type": "code",
   "execution_count": 16,
   "id": "e8ddcb4e-25fc-4949-a5c8-df12f1e6ff90",
   "metadata": {},
   "outputs": [
    {
     "name": "stdout",
     "output_type": "stream",
     "text": [
      "25\n"
     ]
    }
   ],
   "source": [
    "age = 25\n",
    "print(age)"
   ]
  },
  {
   "cell_type": "code",
   "execution_count": null,
   "id": "17d9e380-4797-4d73-976e-5aec3c9af859",
   "metadata": {},
   "outputs": [],
   "source": []
  },
  {
   "cell_type": "markdown",
   "id": "d470076e-c308-43b4-abde-851d9365baf7",
   "metadata": {},
   "source": [
    "Q8. Declare a variable named price and assign the value 9.99 to it. What data type does this variable\n",
    "belong to?"
   ]
  },
  {
   "cell_type": "markdown",
   "id": "b8489935-50cb-4791-ad36-f6a00a478099",
   "metadata": {},
   "source": [
    "==>The Value 9.99 is belong to floating datatype\n",
    "  "
   ]
  },
  {
   "cell_type": "code",
   "execution_count": 17,
   "id": "4ac5cf9f-6c1d-43da-a980-769cb4d0cbc9",
   "metadata": {},
   "outputs": [
    {
     "name": "stdout",
     "output_type": "stream",
     "text": [
      "9.99\n"
     ]
    }
   ],
   "source": [
    "price=9.99\n",
    "print(price)"
   ]
  },
  {
   "cell_type": "markdown",
   "id": "a7502438-3470-454c-b591-a559dad4a289",
   "metadata": {},
   "source": [
    "Q9. Create a variable named name and assign your full name to it as a string. How would you print the\n",
    "value of this variable?"
   ]
  },
  {
   "cell_type": "code",
   "execution_count": 18,
   "id": "835c1e48-c6c1-4394-a54a-d67cf9fe1e2a",
   "metadata": {},
   "outputs": [],
   "source": [
    "my_name = \"Akash Vishwakarma\"\n"
   ]
  },
  {
   "cell_type": "code",
   "execution_count": 19,
   "id": "eeb316df-c5b3-4cdb-a947-692fd813750a",
   "metadata": {},
   "outputs": [
    {
     "name": "stdout",
     "output_type": "stream",
     "text": [
      "Akash Vishwakarma\n"
     ]
    }
   ],
   "source": [
    "#The print() function is commonly used in Python to display the value of variables or any other desired output to the console.\n",
    "\n",
    "print(my_name)\n",
    "\n",
    "\n"
   ]
  },
  {
   "cell_type": "markdown",
   "id": "52e82f52-b872-4275-b5d3-32f067d73e82",
   "metadata": {},
   "source": [
    "Q10. Given the string \"Hello, World!\", extract the substring \"World\"."
   ]
  },
  {
   "cell_type": "code",
   "execution_count": 20,
   "id": "dd3dd23c-092d-484a-b964-16240cb2363f",
   "metadata": {},
   "outputs": [
    {
     "data": {
      "text/plain": [
       "'Hello, World!'"
      ]
     },
     "execution_count": 20,
     "metadata": {},
     "output_type": "execute_result"
    }
   ],
   "source": [
    "s1 = \"Hello, World!\"\n",
    "s1"
   ]
  },
  {
   "cell_type": "code",
   "execution_count": 21,
   "id": "6974b11e-e7db-4269-9463-c656b2499f0d",
   "metadata": {},
   "outputs": [
    {
     "data": {
      "text/plain": [
       "'World'"
      ]
     },
     "execution_count": 21,
     "metadata": {},
     "output_type": "execute_result"
    }
   ],
   "source": [
    "s1[7:12]"
   ]
  },
  {
   "cell_type": "markdown",
   "id": "d51f94f8-2526-466b-9ef5-61900d0fdd1b",
   "metadata": {},
   "source": [
    "Q11. Create a variable named \"is_student\" and assign it a boolean value indicating whether you are\n",
    "currently a student or not."
   ]
  },
  {
   "cell_type": "code",
   "execution_count": 24,
   "id": "62eba89e-a859-4887-b5f3-f2cc0d01d9c9",
   "metadata": {},
   "outputs": [
    {
     "data": {
      "text/plain": [
       "False"
      ]
     },
     "execution_count": 24,
     "metadata": {},
     "output_type": "execute_result"
    }
   ],
   "source": [
    "is_student = True\n",
    "is_student = False\n",
    "print(is_student)"
   ]
  }
 ],
 "metadata": {
  "kernelspec": {
   "display_name": "Python 3 (ipykernel)",
   "language": "python",
   "name": "python3"
  },
  "language_info": {
   "codemirror_mode": {
    "name": "ipython",
    "version": 3
   },
   "file_extension": ".py",
   "mimetype": "text/x-python",
   "name": "python",
   "nbconvert_exporter": "python",
   "pygments_lexer": "ipython3",
   "version": "3.10.8"
  }
 },
 "nbformat": 4,
 "nbformat_minor": 5
}
